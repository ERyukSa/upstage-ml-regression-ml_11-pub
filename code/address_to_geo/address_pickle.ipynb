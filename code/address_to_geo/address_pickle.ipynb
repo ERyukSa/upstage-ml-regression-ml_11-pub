{
 "cells": [
  {
   "cell_type": "code",
   "execution_count": 2,
   "metadata": {},
   "outputs": [
    {
     "name": "stdout",
     "output_type": "stream",
     "text": [
      "Type of adres_to_geo: <class 'dict'>\n",
      "Number of entries: 8204\n",
      "\n",
      "Sample keys and values:\n",
      "Key 1: 서울특별시 강남구 개포동 189\n",
      "Value 1: (37.48421, 127.07006)\n",
      "\n",
      "Key 2: 서울특별시 강남구 개포동 185\n",
      "Value 2: (37.48421, 127.07006)\n",
      "\n",
      "Key 3: 서울특별시 강남구 개포동 655-1\n",
      "Value 3: (37.48421, 127.07006)\n",
      "\n",
      "Key 4: 서울특별시 강남구 개포동 649\n",
      "Value 4: (37.48421, 127.07006)\n",
      "\n",
      "Key 5: 서울특별시 강남구 개포동 1164-30\n",
      "Value 5: (37.48421, 127.07006)\n",
      "\n"
     ]
    }
   ],
   "source": [
    "import pickle\n",
    "import pandas as pd\n",
    "\n",
    "# Load the pickle file\n",
    "with open('../code/adres_to_geo.pickle', 'rb') as f:\n",
    "    adres_to_geo = pickle.load(f)\n",
    "\n",
    "# Print the type\n",
    "print(f\"Type of adres_to_geo: {type(adres_to_geo)}\")\n",
    "\n",
    "# If it's a dictionary, print some sample keys and values\n",
    "if isinstance(adres_to_geo, dict):\n",
    "    print(f\"Number of entries: {len(adres_to_geo)}\")\n",
    "    print(\"\\nSample keys and values:\")\n",
    "    for i, (key, value) in enumerate(list(adres_to_geo.items())[:5]):\n",
    "        print(f\"Key {i+1}: {key}\")\n",
    "        print(f\"Value {i+1}: {value}\")\n",
    "        print()\n",
    "# If it's a DataFrame\n",
    "elif isinstance(adres_to_geo, pd.DataFrame):\n",
    "    print(f\"DataFrame shape: {adres_to_geo.shape}\")\n",
    "    print(\"\\nDataFrame columns:\")\n",
    "    print(adres_to_geo.columns.tolist())\n",
    "    print(\"\\nFirst few rows:\")\n",
    "    print(adres_to_geo.head())"
   ]
  }
 ],
 "metadata": {
  "kernelspec": {
   "display_name": "Python 3",
   "language": "python",
   "name": "python3"
  },
  "language_info": {
   "codemirror_mode": {
    "name": "ipython",
    "version": 3
   },
   "file_extension": ".py",
   "mimetype": "text/x-python",
   "name": "python",
   "nbconvert_exporter": "python",
   "pygments_lexer": "ipython3",
   "version": "3.10.17"
  }
 },
 "nbformat": 4,
 "nbformat_minor": 2
}
